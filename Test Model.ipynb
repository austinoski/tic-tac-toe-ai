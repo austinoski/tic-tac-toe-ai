{
 "cells": [
  {
   "cell_type": "markdown",
   "id": "995e251c",
   "metadata": {},
   "source": [
    "## A little script to load our saved model and verify it is actually set for deployment"
   ]
  },
  {
   "cell_type": "code",
   "execution_count": 36,
   "id": "8489c71d",
   "metadata": {},
   "outputs": [],
   "source": [
    "import pickle\n",
    "import numpy"
   ]
  },
  {
   "cell_type": "code",
   "execution_count": 37,
   "id": "665a457d",
   "metadata": {},
   "outputs": [],
   "source": [
    "sample = [1,-1,0,0,0,0,0,1,0]\n",
    "target = 6"
   ]
  },
  {
   "cell_type": "code",
   "execution_count": 38,
   "id": "7d2aeceb",
   "metadata": {},
   "outputs": [],
   "source": [
    "with open(\"tic-tac-toe_model.pkl\", \"rb\") as f:\n",
    "    model = pickle.load(f)"
   ]
  },
  {
   "cell_type": "code",
   "execution_count": 39,
   "id": "c0621fe7",
   "metadata": {},
   "outputs": [
    {
     "data": {
      "text/plain": [
       "RandomForestClassifier()"
      ]
     },
     "execution_count": 39,
     "metadata": {},
     "output_type": "execute_result"
    }
   ],
   "source": [
    "model"
   ]
  },
  {
   "cell_type": "code",
   "execution_count": 40,
   "id": "64b290b4",
   "metadata": {},
   "outputs": [],
   "source": [
    "prediction = model.predict(numpy.array(sample).reshape([1, -1]))"
   ]
  },
  {
   "cell_type": "code",
   "execution_count": 41,
   "id": "75a4e056",
   "metadata": {},
   "outputs": [],
   "source": [
    "assert prediction == target"
   ]
  },
  {
   "cell_type": "code",
   "execution_count": null,
   "id": "8654c11c",
   "metadata": {},
   "outputs": [],
   "source": []
  }
 ],
 "metadata": {
  "kernelspec": {
   "display_name": "Python 3",
   "language": "python",
   "name": "python3"
  },
  "language_info": {
   "codemirror_mode": {
    "name": "ipython",
    "version": 3
   },
   "file_extension": ".py",
   "mimetype": "text/x-python",
   "name": "python",
   "nbconvert_exporter": "python",
   "pygments_lexer": "ipython3",
   "version": "3.8.8"
  }
 },
 "nbformat": 4,
 "nbformat_minor": 5
}
