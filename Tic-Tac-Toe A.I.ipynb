{
 "cells": [
  {
   "cell_type": "markdown",
   "id": "f643e715",
   "metadata": {},
   "source": [
    "# Introduction\n",
    "I've tried coding a program to play Tic-Tac-Toe and it was easy for me at all.\n",
    "Implementing the algorithm required me to write many lines of code which i ended up not doing!\n",
    "\n",
    "Today I am going to teach my computer how to play the Tic-Tac-Toe game by itself just by showing\n",
    "it some examples of Tic-Tac-Toe game plays."
   ]
  },
  {
   "cell_type": "markdown",
   "id": "5f3d455e",
   "metadata": {},
   "source": [
    "## Import required python modules"
   ]
  },
  {
   "cell_type": "code",
   "execution_count": 45,
   "id": "c46fa326",
   "metadata": {},
   "outputs": [],
   "source": [
    "import pickle\n",
    "import pandas as pd\n",
    "import numpy as np\n",
    "\n",
    "from sklearn.model_selection import cross_val_score\n",
    "from sklearn.ensemble import RandomForestClassifier"
   ]
  },
  {
   "cell_type": "markdown",
   "id": "405e24f9",
   "metadata": {},
   "source": [
    "## Load dataset"
   ]
  },
  {
   "cell_type": "code",
   "execution_count": 27,
   "id": "3627e4ca",
   "metadata": {},
   "outputs": [
    {
     "data": {
      "text/html": [
       "<div>\n",
       "<style scoped>\n",
       "    .dataframe tbody tr th:only-of-type {\n",
       "        vertical-align: middle;\n",
       "    }\n",
       "\n",
       "    .dataframe tbody tr th {\n",
       "        vertical-align: top;\n",
       "    }\n",
       "\n",
       "    .dataframe thead th {\n",
       "        text-align: right;\n",
       "    }\n",
       "</style>\n",
       "<table border=\"1\" class=\"dataframe\">\n",
       "  <thead>\n",
       "    <tr style=\"text-align: right;\">\n",
       "      <th></th>\n",
       "      <th>0</th>\n",
       "      <th>1</th>\n",
       "      <th>2</th>\n",
       "      <th>3</th>\n",
       "      <th>4</th>\n",
       "      <th>5</th>\n",
       "      <th>6</th>\n",
       "      <th>7</th>\n",
       "      <th>8</th>\n",
       "      <th>9</th>\n",
       "    </tr>\n",
       "  </thead>\n",
       "  <tbody>\n",
       "    <tr>\n",
       "      <th>0</th>\n",
       "      <td>1</td>\n",
       "      <td>-1</td>\n",
       "      <td>0</td>\n",
       "      <td>0</td>\n",
       "      <td>0</td>\n",
       "      <td>0</td>\n",
       "      <td>0</td>\n",
       "      <td>1</td>\n",
       "      <td>0</td>\n",
       "      <td>6</td>\n",
       "    </tr>\n",
       "    <tr>\n",
       "      <th>1</th>\n",
       "      <td>1</td>\n",
       "      <td>0</td>\n",
       "      <td>1</td>\n",
       "      <td>0</td>\n",
       "      <td>0</td>\n",
       "      <td>0</td>\n",
       "      <td>0</td>\n",
       "      <td>-1</td>\n",
       "      <td>0</td>\n",
       "      <td>1</td>\n",
       "    </tr>\n",
       "    <tr>\n",
       "      <th>2</th>\n",
       "      <td>0</td>\n",
       "      <td>0</td>\n",
       "      <td>0</td>\n",
       "      <td>0</td>\n",
       "      <td>0</td>\n",
       "      <td>1</td>\n",
       "      <td>0</td>\n",
       "      <td>0</td>\n",
       "      <td>0</td>\n",
       "      <td>2</td>\n",
       "    </tr>\n",
       "    <tr>\n",
       "      <th>3</th>\n",
       "      <td>0</td>\n",
       "      <td>1</td>\n",
       "      <td>1</td>\n",
       "      <td>0</td>\n",
       "      <td>0</td>\n",
       "      <td>0</td>\n",
       "      <td>0</td>\n",
       "      <td>-1</td>\n",
       "      <td>0</td>\n",
       "      <td>0</td>\n",
       "    </tr>\n",
       "    <tr>\n",
       "      <th>4</th>\n",
       "      <td>1</td>\n",
       "      <td>1</td>\n",
       "      <td>-1</td>\n",
       "      <td>0</td>\n",
       "      <td>0</td>\n",
       "      <td>0</td>\n",
       "      <td>0</td>\n",
       "      <td>-1</td>\n",
       "      <td>0</td>\n",
       "      <td>3</td>\n",
       "    </tr>\n",
       "  </tbody>\n",
       "</table>\n",
       "</div>"
      ],
      "text/plain": [
       "   0  1  2  3  4  5  6  7  8  9\n",
       "0  1 -1  0  0  0  0  0  1  0  6\n",
       "1  1  0  1  0  0  0  0 -1  0  1\n",
       "2  0  0  0  0  0  1  0  0  0  2\n",
       "3  0  1  1  0  0  0  0 -1  0  0\n",
       "4  1  1 -1  0  0  0  0 -1  0  3"
      ]
     },
     "execution_count": 27,
     "metadata": {},
     "output_type": "execute_result"
    }
   ],
   "source": [
    "data = pd.read_csv(\n",
    "    \"tic-tac-toe.csv\",\n",
    "    delimiter=\" \",\n",
    "    names=list(range(10))\n",
    ")\n",
    "data.head()"
   ]
  },
  {
   "cell_type": "markdown",
   "id": "6cd636c2",
   "metadata": {},
   "source": [
    "## Get information about the dataset like null or missing values"
   ]
  },
  {
   "cell_type": "code",
   "execution_count": 28,
   "id": "591a02ce",
   "metadata": {},
   "outputs": [
    {
     "name": "stdout",
     "output_type": "stream",
     "text": [
      "<class 'pandas.core.frame.DataFrame'>\n",
      "RangeIndex: 6551 entries, 0 to 6550\n",
      "Data columns (total 10 columns):\n",
      " #   Column  Non-Null Count  Dtype\n",
      "---  ------  --------------  -----\n",
      " 0   0       6551 non-null   int64\n",
      " 1   1       6551 non-null   int64\n",
      " 2   2       6551 non-null   int64\n",
      " 3   3       6551 non-null   int64\n",
      " 4   4       6551 non-null   int64\n",
      " 5   5       6551 non-null   int64\n",
      " 6   6       6551 non-null   int64\n",
      " 7   7       6551 non-null   int64\n",
      " 8   8       6551 non-null   int64\n",
      " 9   9       6551 non-null   int64\n",
      "dtypes: int64(10)\n",
      "memory usage: 511.9 KB\n"
     ]
    }
   ],
   "source": [
    "data.info()"
   ]
  },
  {
   "cell_type": "markdown",
   "id": "1adbeca6",
   "metadata": {},
   "source": [
    "## Split dataset into features (X) and target (y)"
   ]
  },
  {
   "cell_type": "code",
   "execution_count": 29,
   "id": "88274de9",
   "metadata": {},
   "outputs": [],
   "source": [
    "X = data.drop(9, axis=1)\n",
    "y = data[9]"
   ]
  },
  {
   "cell_type": "markdown",
   "id": "724eb723",
   "metadata": {},
   "source": [
    "## Initialize, train and get the score of a RandomForestClassifier using Cross Validation"
   ]
  },
  {
   "cell_type": "code",
   "execution_count": null,
   "id": "82631ceb",
   "metadata": {},
   "outputs": [],
   "source": [
    "clf = RandomForestClassifier()\n",
    "scores = cross_val_score(clf, X, y, cv=5)\n",
    "scores.mean()"
   ]
  },
  {
   "cell_type": "markdown",
   "id": "ce48ee5f",
   "metadata": {},
   "source": [
    "## Fit entire dataset to the model"
   ]
  },
  {
   "cell_type": "code",
   "execution_count": 41,
   "id": "8dbae178",
   "metadata": {},
   "outputs": [
    {
     "data": {
      "text/plain": [
       "RandomForestClassifier()"
      ]
     },
     "execution_count": 41,
     "metadata": {},
     "output_type": "execute_result"
    }
   ],
   "source": [
    "clf.fit(X, y)"
   ]
  },
  {
   "cell_type": "markdown",
   "id": "d73f31af",
   "metadata": {},
   "source": [
    "## Save model to a file for deployment"
   ]
  },
  {
   "cell_type": "code",
   "execution_count": 44,
   "id": "ff132ac0",
   "metadata": {},
   "outputs": [],
   "source": [
    "with open(\"tic-tac-toe_model.pkl\", \"wb\") as f:\n",
    "    pickle.dump(clf, f)"
   ]
  }
 ],
 "metadata": {
  "kernelspec": {
   "display_name": "Python 3",
   "language": "python",
   "name": "python3"
  },
  "language_info": {
   "codemirror_mode": {
    "name": "ipython",
    "version": 3
   },
   "file_extension": ".py",
   "mimetype": "text/x-python",
   "name": "python",
   "nbconvert_exporter": "python",
   "pygments_lexer": "ipython3",
   "version": "3.8.8"
  }
 },
 "nbformat": 4,
 "nbformat_minor": 5
}
